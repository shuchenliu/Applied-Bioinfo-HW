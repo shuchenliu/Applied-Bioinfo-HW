{
 "cells": [
  {
   "cell_type": "markdown",
   "metadata": {},
   "source": [
    "## 3.6"
   ]
  },
  {
   "cell_type": "code",
   "execution_count": 12,
   "metadata": {},
   "outputs": [],
   "source": [
    "# set up directory\n",
    "dir_counts <- \"~/Documents/Dev/SRCourse/original/Applied-Bioinformatics/Unit2-RNAseq/data/htseq_out/day5\"\n",
    "counts_files <- list.files(dir_counts)"
   ]
  },
  {
   "cell_type": "code",
   "execution_count": 13,
   "metadata": {},
   "outputs": [],
   "source": [
    "# set up sample info\n",
    "samplesInfo <- as.data.frame(matrix(ncol=2, nrow=length(counts_files)))  \n",
    "samplesInfo$samplename <- counts_files  \n",
    "samplesInfo$filename <- counts_files  \n",
    "samplesInfo$group <- c(\"mock\", \"ZIKV\", \"mock\", \"ZIKV\", \"mock\", \"ZIKV\") \n",
    "samplesInfo <- samplesInfo[,-c(1:2)]"
   ]
  },
  {
   "cell_type": "code",
   "execution_count": 14,
   "metadata": {},
   "outputs": [
    {
     "data": {
      "text/html": [
       "<table>\n",
       "<thead><tr><th scope=col>samplename</th><th scope=col>filename</th><th scope=col>group</th></tr></thead>\n",
       "<tbody>\n",
       "\t<tr><td>GSM2580321_counts.txt</td><td>GSM2580321_counts.txt</td><td>mock                 </td></tr>\n",
       "\t<tr><td>GSM2580322_counts.txt</td><td>GSM2580322_counts.txt</td><td>ZIKV                 </td></tr>\n",
       "\t<tr><td>GSM2580325_counts.txt</td><td>GSM2580325_counts.txt</td><td>mock                 </td></tr>\n",
       "\t<tr><td>GSM2580326_counts.txt</td><td>GSM2580326_counts.txt</td><td>ZIKV                 </td></tr>\n",
       "\t<tr><td>GSM2580329_counts.txt</td><td>GSM2580329_counts.txt</td><td>mock                 </td></tr>\n",
       "\t<tr><td>GSM2580330_counts.txt</td><td>GSM2580330_counts.txt</td><td>ZIKV                 </td></tr>\n",
       "</tbody>\n",
       "</table>\n"
      ],
      "text/latex": [
       "\\begin{tabular}{r|lll}\n",
       " samplename & filename & group\\\\\n",
       "\\hline\n",
       "\t GSM2580321\\_counts.txt & GSM2580321\\_counts.txt & mock                   \\\\\n",
       "\t GSM2580322\\_counts.txt & GSM2580322\\_counts.txt & ZIKV                   \\\\\n",
       "\t GSM2580325\\_counts.txt & GSM2580325\\_counts.txt & mock                   \\\\\n",
       "\t GSM2580326\\_counts.txt & GSM2580326\\_counts.txt & ZIKV                   \\\\\n",
       "\t GSM2580329\\_counts.txt & GSM2580329\\_counts.txt & mock                   \\\\\n",
       "\t GSM2580330\\_counts.txt & GSM2580330\\_counts.txt & ZIKV                   \\\\\n",
       "\\end{tabular}\n"
      ],
      "text/markdown": [
       "\n",
       "samplename | filename | group | \n",
       "|---|---|---|---|---|---|\n",
       "| GSM2580321_counts.txt | GSM2580321_counts.txt | mock                  | \n",
       "| GSM2580322_counts.txt | GSM2580322_counts.txt | ZIKV                  | \n",
       "| GSM2580325_counts.txt | GSM2580325_counts.txt | mock                  | \n",
       "| GSM2580326_counts.txt | GSM2580326_counts.txt | ZIKV                  | \n",
       "| GSM2580329_counts.txt | GSM2580329_counts.txt | mock                  | \n",
       "| GSM2580330_counts.txt | GSM2580330_counts.txt | ZIKV                  | \n",
       "\n",
       "\n"
      ],
      "text/plain": [
       "  samplename            filename              group\n",
       "1 GSM2580321_counts.txt GSM2580321_counts.txt mock \n",
       "2 GSM2580322_counts.txt GSM2580322_counts.txt ZIKV \n",
       "3 GSM2580325_counts.txt GSM2580325_counts.txt mock \n",
       "4 GSM2580326_counts.txt GSM2580326_counts.txt ZIKV \n",
       "5 GSM2580329_counts.txt GSM2580329_counts.txt mock \n",
       "6 GSM2580330_counts.txt GSM2580330_counts.txt ZIKV "
      ]
     },
     "metadata": {},
     "output_type": "display_data"
    },
    {
     "data": {
      "text/html": [
       "'data.frame'"
      ],
      "text/latex": [
       "'data.frame'"
      ],
      "text/markdown": [
       "'data.frame'"
      ],
      "text/plain": [
       "[1] \"data.frame\""
      ]
     },
     "metadata": {},
     "output_type": "display_data"
    }
   ],
   "source": [
    "samplesInfo\n",
    "class(samplesInfo)"
   ]
  },
  {
   "cell_type": "code",
   "execution_count": 17,
   "metadata": {},
   "outputs": [
    {
     "name": "stderr",
     "output_type": "stream",
     "text": [
      "Warning message in DESeqDataSet(se, design = design, ignoreRank):\n",
      "“some variables in design formula are characters, converting to factors”"
     ]
    }
   ],
   "source": [
    "library(\"DESeq2\")\n",
    "dds1 <- DESeqDataSetFromHTSeqCount(sampleTable = samplesInfo, \n",
    "                                           directory = dir_counts, \n",
    "                                           design = ~ group)"
   ]
  },
  {
   "cell_type": "code",
   "execution_count": 18,
   "metadata": {},
   "outputs": [
    {
     "data": {
      "text/plain": [
       "DataFrame with 6 rows and 1 column\n",
       "                         group\n",
       "                      <factor>\n",
       "GSM2580321_counts.txt     mock\n",
       "GSM2580322_counts.txt     ZIKV\n",
       "GSM2580325_counts.txt     mock\n",
       "GSM2580326_counts.txt     ZIKV\n",
       "GSM2580329_counts.txt     mock\n",
       "GSM2580330_counts.txt     ZIKV"
      ]
     },
     "metadata": {},
     "output_type": "display_data"
    }
   ],
   "source": [
    "colData(dds1)"
   ]
  },
  {
   "cell_type": "code",
   "execution_count": 19,
   "metadata": {},
   "outputs": [
    {
     "name": "stderr",
     "output_type": "stream",
     "text": [
      "estimating size factors\n",
      "estimating dispersions\n",
      "gene-wise dispersion estimates\n",
      "mean-dispersion relationship\n",
      "final dispersion estimates\n",
      "fitting model and testing\n"
     ]
    }
   ],
   "source": [
    "dds1_deseq <- DESeq(dds1)"
   ]
  },
  {
   "cell_type": "code",
   "execution_count": 20,
   "metadata": {},
   "outputs": [
    {
     "data": {
      "text/plain": [
       "DataFrame with 6 rows and 2 columns\n",
       "                         group        sizeFactor\n",
       "                      <factor>         <numeric>\n",
       "GSM2580321_counts.txt     mock 0.914347097327985\n",
       "GSM2580322_counts.txt     ZIKV 0.861713044902337\n",
       "GSM2580325_counts.txt     mock 0.764939157100768\n",
       "GSM2580326_counts.txt     ZIKV  0.84496827192185\n",
       "GSM2580329_counts.txt     mock  1.93068645055948\n",
       "GSM2580330_counts.txt     ZIKV   1.0303145068499"
      ]
     },
     "metadata": {},
     "output_type": "display_data"
    }
   ],
   "source": [
    "## First check the sample table we are selecting from\n",
    "colData(dds1_deseq)"
   ]
  },
  {
   "cell_type": "code",
   "execution_count": 22,
   "metadata": {},
   "outputs": [
    {
     "data": {
      "text/plain": [
       "log2 fold change (MLE): group ZIKV vs mock \n",
       "Wald test p-value: group ZIKV vs mock \n",
       "DataFrame with 58735 rows and 6 columns\n",
       "                         baseMean       log2FoldChange              lfcSE\n",
       "                        <numeric>            <numeric>          <numeric>\n",
       "ENSG00000000003  1075.63906962851   -0.292138552730903 0.0965015645303186\n",
       "ENSG00000000005  6.33853718932102   -0.283335284056721  0.840671238767424\n",
       "ENSG00000000419   813.68939359019  0.00256337467730136  0.101739836787501\n",
       "ENSG00000000457  499.648910083186 -0.00215071944894734  0.111152173317996\n",
       "ENSG00000000460  429.808167012587    -0.10958129780589  0.120593088725289\n",
       "...                           ...                  ...                ...\n",
       "ENSG00000285990 0.597527409245946    -1.06736058349928   3.37327270111844\n",
       "ENSG00000285991   2.3494385123837     1.87259702463587   1.66805197384659\n",
       "ENSG00000285992                 0                   NA                 NA\n",
       "ENSG00000285993                 0                   NA                 NA\n",
       "ENSG00000285994  11.2418944845915    0.053353461889175  0.710308451765371\n",
       "                               stat              pvalue              padj\n",
       "                          <numeric>           <numeric>         <numeric>\n",
       "ENSG00000000003   -3.02729343459629 0.00246754297481173 0.058876402488385\n",
       "ENSG00000000005  -0.337034587352056   0.736090826944279                NA\n",
       "ENSG00000000419  0.0251953881413764   0.979899115520041 0.996997102868646\n",
       "ENSG00000000457 -0.0193493243069061   0.984562436174157 0.997455551989899\n",
       "ENSG00000000460  -0.908686384636154   0.363515693140738 0.808422559439778\n",
       "...                             ...                 ...               ...\n",
       "ENSG00000285990  -0.316416927438268   0.751686070256046                NA\n",
       "ENSG00000285991    1.12262510640936   0.261596747885741                NA\n",
       "ENSG00000285992                  NA                  NA                NA\n",
       "ENSG00000285993                  NA                  NA                NA\n",
       "ENSG00000285994  0.0751130889074634   0.940124733803382                NA"
      ]
     },
     "metadata": {},
     "output_type": "display_data"
    }
   ],
   "source": [
    "## Specify sample groups that should be compared\n",
    "res <- results(dds1_deseq, contrast=c(\"group\", \"ZIKV\", \"mock\"))\n",
    "res"
   ]
  },
  {
   "cell_type": "code",
   "execution_count": 24,
   "metadata": {},
   "outputs": [
    {
     "data": {
      "text/plain": [
       "log2 fold change (MLE): group ZIKV vs mock \n",
       "Wald test p-value: group ZIKV vs mock \n",
       "DataFrame with 6 rows and 6 columns\n",
       "                        baseMean   log2FoldChange             lfcSE\n",
       "                       <numeric>        <numeric>         <numeric>\n",
       "ENSG00000213928 512.187721168106 3.27507529008383 0.199747644686085\n",
       "ENSG00000059378 336.458301796665 3.72099716105068 0.276732956924328\n",
       "ENSG00000157601 4008.96259771101 5.68040787674336 0.475308620229343\n",
       "ENSG00000108679 5768.88412825511 1.58820729548322  0.13817689681707\n",
       "ENSG00000115415  14617.158612877 3.57704283976823 0.333979738711162\n",
       "ENSG00000187608 3876.78300136491 4.74071973993298 0.450824815194358\n",
       "                            stat               pvalue                 padj\n",
       "                       <numeric>            <numeric>            <numeric>\n",
       "ENSG00000213928 16.3960646205907 2.04034625404368e-60 3.48572754040823e-56\n",
       "ENSG00000059378 13.4461655829023 3.24255798151487e-41    2.76979302781e-37\n",
       "ENSG00000157601 11.9509885471938 6.41575118466173e-33 3.65355644129203e-29\n",
       "ENSG00000108679 11.4940147887807 1.41384911386017e-30 6.03854956529677e-27\n",
       "ENSG00000115415 10.7103588186881 9.10083845461126e-27 3.10957448317157e-23\n",
       "ENSG00000187608 10.5156583669627 7.31679781403559e-26  2.0833362309164e-22"
      ]
     },
     "metadata": {},
     "output_type": "display_data"
    }
   ],
   "source": [
    "## sort the gene by adjusted p-value\n",
    "resSorted <- res[order(res$padj),]\n",
    "head(resSorted)"
   ]
  },
  {
   "cell_type": "code",
   "execution_count": 25,
   "metadata": {},
   "outputs": [],
   "source": [
    "# Set up look up API\n",
    "library(\"biomaRt\")\n",
    "bm <- useMart(biomart = \"ensembl\")\n",
    "bm <- useDataset(dataset = \"hsapiens_gene_ensembl\", mart = bm)\n",
    "ens2genesymbol <- getBM(mart = bm, attributes = c('ensembl_gene_id', 'external_gene_name'))"
   ]
  },
  {
   "cell_type": "code",
   "execution_count": 36,
   "metadata": {},
   "outputs": [
    {
     "data": {
      "text/html": [
       "<ol class=list-inline>\n",
       "\t<li>'IRF9'</li>\n",
       "\t<li>'PARP12'</li>\n",
       "\t<li>'MX1'</li>\n",
       "\t<li>'LGALS3BP'</li>\n",
       "\t<li>'STAT1'</li>\n",
       "\t<li>'ISG15'</li>\n",
       "\t<li>'OAS3'</li>\n",
       "\t<li>'OAS2'</li>\n",
       "\t<li>'C5orf56'</li>\n",
       "\t<li>'IRF7'</li>\n",
       "</ol>\n"
      ],
      "text/latex": [
       "\\begin{enumerate*}\n",
       "\\item 'IRF9'\n",
       "\\item 'PARP12'\n",
       "\\item 'MX1'\n",
       "\\item 'LGALS3BP'\n",
       "\\item 'STAT1'\n",
       "\\item 'ISG15'\n",
       "\\item 'OAS3'\n",
       "\\item 'OAS2'\n",
       "\\item 'C5orf56'\n",
       "\\item 'IRF7'\n",
       "\\end{enumerate*}\n"
      ],
      "text/markdown": [
       "1. 'IRF9'\n",
       "2. 'PARP12'\n",
       "3. 'MX1'\n",
       "4. 'LGALS3BP'\n",
       "5. 'STAT1'\n",
       "6. 'ISG15'\n",
       "7. 'OAS3'\n",
       "8. 'OAS2'\n",
       "9. 'C5orf56'\n",
       "10. 'IRF7'\n",
       "\n",
       "\n"
      ],
      "text/plain": [
       " [1] \"IRF9\"     \"PARP12\"   \"MX1\"      \"LGALS3BP\" \"STAT1\"    \"ISG15\"   \n",
       " [7] \"OAS3\"     \"OAS2\"     \"C5orf56\"  \"IRF7\"    "
      ]
     },
     "metadata": {},
     "output_type": "display_data"
    }
   ],
   "source": [
    "n <- 10\n",
    "geneList <- list()\n",
    "for (i in 1 : n) {\n",
    "        ref <- which(ens2genesymbol$ensembl_gene_id %in% rownames(resSorted)[i])\n",
    "        name <- ens2genesymbol[ref, \"external_gene_name\"]\n",
    "        geneList[[i]] <- ref\n",
    "        names(geneList)[i] <- name\n",
    "}\n",
    "\n",
    "names(geneList)"
   ]
  },
  {
   "cell_type": "code",
   "execution_count": null,
   "metadata": {},
   "outputs": [],
   "source": []
  }
 ],
 "metadata": {
  "kernelspec": {
   "display_name": "R",
   "language": "R",
   "name": "ir"
  },
  "language_info": {
   "codemirror_mode": "r",
   "file_extension": ".r",
   "mimetype": "text/x-r-source",
   "name": "R",
   "pygments_lexer": "r",
   "version": "3.5.0"
  }
 },
 "nbformat": 4,
 "nbformat_minor": 2
}
