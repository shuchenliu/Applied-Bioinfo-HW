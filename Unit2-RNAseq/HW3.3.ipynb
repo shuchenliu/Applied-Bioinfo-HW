{
 "cells": [
  {
   "cell_type": "markdown",
   "metadata": {},
   "source": [
    "### Questions - write the answer below each question."
   ]
  },
  {
   "cell_type": "markdown",
   "metadata": {},
   "source": [
    "**I) What are the components of a FASTQ file?**"
   ]
  },
  {
   "cell_type": "markdown",
   "metadata": {},
   "source": [
    "*Each entry of FASTQ file contains 4 components:  *\n",
    "1. A sequence identifier with information about the sequencing run and the cluster.\n",
    "2. The actual genetic sequence that consists of A, C, T, G and N.\n",
    "3. A '+' separator \n",
    "4. The quality scores"
   ]
  },
  {
   "cell_type": "markdown",
   "metadata": {},
   "source": [
    "**II) What is a SAM file?**"
   ]
  },
  {
   "cell_type": "markdown",
   "metadata": {},
   "source": [
    "*A format that stores mapped sequence data in ASCII codes.*"
   ]
  },
  {
   "cell_type": "markdown",
   "metadata": {},
   "source": [
    "**III) Why is it not possible to run htseq-count directly on FASTQ files? What is the missing step?**"
   ]
  },
  {
   "cell_type": "markdown",
   "metadata": {},
   "source": [
    "*Feature reads can only be counted from aligned sequence, so we would have to transform FASTQ file into SAM format first.*"
   ]
  },
  {
   "cell_type": "markdown",
   "metadata": {},
   "source": [
    "**IV) Find one example of an optional SAM tag and explain why it might be useful.**"
   ]
  },
  {
   "cell_type": "markdown",
   "metadata": {},
   "source": [
    "*$AS$ tag denotes the alignment score, which serves as an indicator of how reliable the alignment results is. We can use this score as a statistical reference when we try to generate VSF file or other data format for further study*"
   ]
  },
  {
   "cell_type": "markdown",
   "metadata": {},
   "source": [
    "**V) You practiced the steps from FASTQ to BAM but is it possible to go from BAM to FASTQ? If so, how?**"
   ]
  },
  {
   "cell_type": "markdown",
   "metadata": {},
   "source": [
    "*While both $bedtools$ and $samtools$ provide functions to revert BAM files back to FASTQ, the quality information for sequencing is lost when a FASTQ file is transformed into SAM and further BAM files. In essence, it is feasible whreas not ideal.*"
   ]
  },
  {
   "cell_type": "markdown",
   "metadata": {},
   "source": [
    "**VI) Describe the process of a spliced alignment and explain why it is more difficult than mapping genomic DNA reads.**"
   ]
  },
  {
   "cell_type": "markdown",
   "metadata": {},
   "source": [
    "*Spliced alignment is an effective method for finding multiexon genes for which a similar cDNA or protein sequence is available. To do this, to do this, algorithms are utilized to explore possible exon assemblies and finds a chain of exons which best fits a related target protein. This difficulty of this process is all potential locations needs to be calculated and those locations could thousands of pairs away.*"
   ]
  },
  {
   "cell_type": "markdown",
   "metadata": {},
   "source": [
    "**VII) Using the default settings of htseq-count, would a read which mapped fully to a genomic region on which 2 genes overlap be counted towards any of the 2 genes? Explain why.**"
   ]
  },
  {
   "cell_type": "markdown",
   "metadata": {},
   "source": [
    "*This situation would be identified by $htseq$ tool as **ambigous** and further operation would depend on user-defined arguments, which could result in the read being counted towards either **none** or **all** features it was assigned to*"
   ]
  },
  {
   "cell_type": "markdown",
   "metadata": {},
   "source": [
    "**VIII) You are interested in RNA-sequencing an organism for which no transcriptome annotations are available. Can you still use htseq-count to examine gene expression? If so, what upstream analyses would you perform first?**"
   ]
  },
  {
   "cell_type": "markdown",
   "metadata": {},
   "source": [
    "*Customized transcriptome annotations could be generated using closest species that has been well annotated. $htseq-count$ can be used given that a SAM/BAM file is created by mapping the organism of interest to the customized annotation as a reference panel.*"
   ]
  },
  {
   "cell_type": "markdown",
   "metadata": {},
   "source": [
    "**IX) Intron retention can result in mRNA isoforms that contain unspliced introns. If **sample 1** contains a high frequency of intron-retained isoforms of gene A whereas **sample 2** contains fully spliced isoforms of gene A, but each sample has the identical number of reads mapping to gene A, which sample will have a higher gene A count using default htseq-count settings?**"
   ]
  },
  {
   "cell_type": "markdown",
   "metadata": {},
   "source": [
    "*The results of the two samples by $htseq-count$ would be the same*"
   ]
  },
  {
   "cell_type": "markdown",
   "metadata": {},
   "source": []
  },
  {
   "cell_type": "markdown",
   "metadata": {},
   "source": [
    "*Markdown*  \n",
    "$a^2$"
   ]
  }
 ],
 "metadata": {
  "kernelspec": {
   "display_name": "Python 3",
   "language": "python",
   "name": "python3"
  },
  "language_info": {
   "codemirror_mode": {
    "name": "ipython",
    "version": 3
   },
   "file_extension": ".py",
   "mimetype": "text/x-python",
   "name": "python",
   "nbconvert_exporter": "python",
   "pygments_lexer": "ipython3",
   "version": "3.6.5"
  }
 },
 "nbformat": 4,
 "nbformat_minor": 2
}
