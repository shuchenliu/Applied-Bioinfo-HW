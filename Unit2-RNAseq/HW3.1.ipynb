{
 "cells": [
  {
   "cell_type": "markdown",
   "metadata": {},
   "source": [
    "## HW0 \n",
    "Now print the first 100 ‘spots’ of the first 5 runs (alphabetically) of the study each into a separate file and quantify how many times the nucleotide adenine occurs in each one. How does this compare to the other nucleotides? What are the possible reasons?"
   ]
  },
  {
   "cell_type": "code",
   "execution_count": 10,
   "metadata": {},
   "outputs": [
    {
     "name": "stdout",
     "output_type": "stream",
     "text": [
      "Read 100 spots for SRR5830136\n",
      "Written 100 spots for SRR5830136\n",
      "Read 100 spots for SRR5830137\n",
      "Written 100 spots for SRR5830137\n",
      "Read 100 spots for SRR5830138\n",
      "Written 100 spots for SRR5830138\n",
      "Read 100 spots for SRR5830139\n",
      "Written 100 spots for SRR5830139\n",
      "Read 100 spots for SRR5830140\n",
      "Written 100 spots for SRR5830140\n"
     ]
    }
   ],
   "source": [
    "%%bash\n",
    "cd ~/Documents/Dev/SRCourse/sratoolkit.2.9.2-mac64/\n",
    "./bin/fastq-dump --split-files -X 100 -O /Users/will/Documents/Dev/SRCourse/original/Applied-Bioinformatics/Unit2-RNAseq/fastq SRR5830136\n",
    "./bin/fastq-dump --split-files -X 100 -O /Users/will/Documents/Dev/SRCourse/original/Applied-Bioinformatics/Unit2-RNAseq/fastq SRR5830137\n",
    "./bin/fastq-dump --split-files -X 100 -O /Users/will/Documents/Dev/SRCourse/original/Applied-Bioinformatics/Unit2-RNAseq/fastq SRR5830138\n",
    "./bin/fastq-dump --split-files -X 100 -O /Users/will/Documents/Dev/SRCourse/original/Applied-Bioinformatics/Unit2-RNAseq/fastq SRR5830139\n",
    "./bin/fastq-dump --split-files -X 100 -O /Users/will/Documents/Dev/SRCourse/original/Applied-Bioinformatics/Unit2-RNAseq/fastq SRR5830140"
   ]
  },
  {
   "cell_type": "code",
   "execution_count": 24,
   "metadata": {},
   "outputs": [
    {
     "name": "stdout",
     "output_type": "stream",
     "text": [
      "./SRR5830136_1.fastq has:\n",
      "As: 2925\n",
      "Cs: 1809\n",
      "Ts: 1986\n",
      "Gs: 1856\n",
      "./SRR5830136_2.fastq has:\n",
      "As: 3140\n",
      "Cs: 1889\n",
      "Ts: 1961\n",
      "Gs: 1724\n",
      "./SRR5830137_1.fastq has:\n",
      "As: 2994\n",
      "Cs: 1802\n",
      "Ts: 2092\n",
      "Gs: 1768\n",
      "./SRR5830137_2.fastq has:\n",
      "As: 3188\n",
      "Cs: 1817\n",
      "Ts: 2003\n",
      "Gs: 1743\n",
      "./SRR5830138_1.fastq has:\n",
      "As: 2799\n",
      "Cs: 1956\n",
      "Ts: 1870\n",
      "Gs: 1956\n",
      "./SRR5830138_2.fastq has:\n",
      "As: 3027\n",
      "Cs: 1932\n",
      "Ts: 1836\n",
      "Gs: 1966\n",
      "./SRR5830139_1.fastq has:\n",
      "As: 2979\n",
      "Cs: 1925\n",
      "Ts: 1851\n",
      "Gs: 1918\n",
      "./SRR5830139_2.fastq has:\n",
      "As: 2992\n",
      "Cs: 1912\n",
      "Ts: 1994\n",
      "Gs: 1814\n",
      "./SRR5830140_1.fastq has:\n",
      "As: 2801\n",
      "Cs: 1888\n",
      "Ts: 1848\n",
      "Gs: 1985\n",
      "./SRR5830140_2.fastq has:\n",
      "As: 2915\n",
      "Cs: 1940\n",
      "Ts: 1826\n",
      "Gs: 2004\n"
     ]
    }
   ],
   "source": [
    "%%bash\n",
    "cd /Users/will/Documents/Dev/SRCourse/original/Applied-Bioinformatics/Unit2-RNAseq/fastq/\n",
    "for filename in ./*.fastq \n",
    "do\n",
    "    echo ${filename} has:\n",
    "    for letter in {A,C,T,G}\n",
    "    do\n",
    "    count=$( grep -o ${letter} ${filename} | wc -l )\n",
    "    echo ${letter}s: ${count}\n",
    "    done\n",
    "done"
   ]
  },
  {
   "cell_type": "markdown",
   "metadata": {},
   "source": [
    "## HW1\n",
    "1. Map SRR5454079 to the human genome using HISAT2 (or chromosome 20 if you have <8GB RAM)."
   ]
  },
  {
   "cell_type": "code",
   "execution_count": 1,
   "metadata": {},
   "outputs": [
    {
     "name": "stdout",
     "output_type": "stream",
     "text": [
      "Read 18699038 spots for SRR5454079\n",
      "Written 18699038 spots for SRR5454079\n"
     ]
    }
   ],
   "source": [
    "%%bash\n",
    "cd ~/Documents/Dev/SRCourse/sratoolkit.2.9.2-mac64/\n",
    "./bin/fastq-dump -O /Users/will/Documents/Dev/SRCourse/original/Applied-Bioinformatics/Unit2-RNAseq/fastq SRR5454079"
   ]
  },
  {
   "cell_type": "code",
   "execution_count": 6,
   "metadata": {},
   "outputs": [
    {
     "name": "stderr",
     "output_type": "stream",
     "text": [
      "18699038 reads; of these:\n",
      "  18699038 (100.00%) were unpaired; of these:\n",
      "    833738 (4.46%) aligned 0 times\n",
      "    15806483 (84.53%) aligned exactly 1 time\n",
      "    2058817 (11.01%) aligned >1 times\n",
      "95.54% overall alignment rate\n"
     ]
    }
   ],
   "source": [
    "%%bash\n",
    "cd /Users/will/Documents/Dev/SRCourse/hisat2-2.1.0/\n",
    "./hisat2 -x ../HISAT_indices/grch38/genome -U /Users/will/Documents/Dev/SRCourse/original/Applied-Bioinformatics/Unit2-RNAseq/fastq/SRR5454079.fastq -S SRR5454079.sam"
   ]
  },
  {
   "cell_type": "markdown",
   "metadata": {},
   "source": [
    "## HW 2"
   ]
  },
  {
   "cell_type": "markdown",
   "metadata": {},
   "source": [
    "Check the first 5 reads contained in the FASTQ files."
   ]
  },
  {
   "cell_type": "code",
   "execution_count": 9,
   "metadata": {},
   "outputs": [
    {
     "name": "stdout",
     "output_type": "stream",
     "text": [
      "@SRR5454079.1 1 length=49\n",
      "@SRR5454079.2 2 length=50\n",
      "@SRR5454079.3 3 length=50\n",
      "@SRR5454079.4 4 length=49\n",
      "@SRR5454079.5 5 length=50\n"
     ]
    }
   ],
   "source": [
    "%%bash\n",
    "cd fastq/\n",
    "grep '@SRR5454079' SRR5454079.fastq | head -5"
   ]
  },
  {
   "cell_type": "markdown",
   "metadata": {},
   "source": [
    "Which chromosome did they align to?"
   ]
  },
  {
   "cell_type": "code",
   "execution_count": 30,
   "metadata": {},
   "outputs": [
    {
     "name": "stdout",
     "output_type": "stream",
     "text": [
      "SRR5454079.1\t4\t*\t0\t0\t*\t*\t0\t0\tNTCTTTCAGGTTTAGTTAGACGTCCTCCAAAAAGAGGCCANAANTCACC\t#AAAFFJJJJJFAF-FAFAJJJ7JJFJJJJJJJJJJ<FJJ#JJ#JJJJJ\tYT:Z:UU\n",
      "SRR5454079.2\t4\t*\t0\t0\t*\t*\t0\t0\tNTGCGCGTGCAGCCCCGGACATCTAAGGGCATCACAGACCNGTNATTGNT\t#AAAFJJJJJJJJJJJJJJJJJFJJJJJFJJFJJJJJJJJ#JJ#JJJJ#J\tYT:Z:UU\n",
      "SRR5454079.3\t4\t*\t0\t0\t*\t*\t0\t0\tNAAGATAATTGCTTTGGTCATCTGTAAGTCACTTTAGCCANTGNGTCTNC\t#AAFFJJJJJJJJJJJJJJFJJJJJJJJJJJJJJJJJJJJ#JJ#JJJJ#J\tYT:Z:UU\n",
      "SRR5454079.4\t4\t*\t0\t0\t*\t*\t0\t0\tNTGGATTGCCTGAGGTCAGGAATTCGAGGCCAGTCTGGCCNACNTGATN\t#AAFFJJJJJJJJJJJJJJJJJJJJJJJJJJJJJJJJJJJ#JJ#JJJJ#\tYT:Z:UU\n",
      "SRR5454079.5\t4\t*\t0\t0\t*\t*\t0\t0\tNGGCAATGCAAACAGCAATCCTACATAATGTAGAATAATTNTTNTTCTNT\t#AAFFJJJJJJJJJJJJJJJJJJJJJJJJJJJJJJJJJJJ#JJ#JJJJ#J\tYT:Z:UU\n"
     ]
    }
   ],
   "source": [
    "%%bash\n",
    "cd /Users/will/Documents/Dev/SRCourse/hisat2-2.1.0/\n",
    "grep 'SRR5454079.[1-5]' SRR5454079.sam | head -5"
   ]
  },
  {
   "cell_type": "markdown",
   "metadata": {},
   "source": [
    "**Answer**: *Since column 3 denotes which chromosome each read matches to, it shows that the first 5 runs match to none of the chromosomes.*"
   ]
  },
  {
   "cell_type": "markdown",
   "metadata": {},
   "source": [
    "## HW3\n",
    "Consult the samtools documentation then convert the output sam file into a sorted bam file."
   ]
  },
  {
   "cell_type": "code",
   "execution_count": 16,
   "metadata": {},
   "outputs": [
    {
     "name": "stderr",
     "output_type": "stream",
     "text": [
      "[bam_sort_core] merging from 6 files and 1 in-memory blocks...\n"
     ]
    }
   ],
   "source": [
    "%%bash\n",
    "cd /Users/will/Documents/Dev/SRCourse/hisat2-2.1.0/\n",
    "samtools view -bS SRR5454079.sam > SRR5454079_USORTED.bam\n",
    "samtools sort SRR5454079_USORTED.bam -o SRR5454079_SORTED.bam"
   ]
  },
  {
   "cell_type": "code",
   "execution_count": null,
   "metadata": {},
   "outputs": [],
   "source": []
  }
 ],
 "metadata": {
  "kernelspec": {
   "display_name": "Python 3",
   "language": "python",
   "name": "python3"
  },
  "language_info": {
   "codemirror_mode": {
    "name": "ipython",
    "version": 3
   },
   "file_extension": ".py",
   "mimetype": "text/x-python",
   "name": "python",
   "nbconvert_exporter": "python",
   "pygments_lexer": "ipython3",
   "version": "3.6.5"
  }
 },
 "nbformat": 4,
 "nbformat_minor": 2
}
