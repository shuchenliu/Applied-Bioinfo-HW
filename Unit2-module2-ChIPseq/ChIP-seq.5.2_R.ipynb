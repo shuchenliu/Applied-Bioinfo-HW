{
 "cells": [
  {
   "cell_type": "markdown",
   "metadata": {},
   "source": [
    "# ChIP-seq intro 5\n",
    "Huitian Diao\n",
    "* __References__: \n",
    "* [ENCODE ChIP-seq pipeline](https://www.encodeproject.org/pipelines/ENCPL138KID/)"
   ]
  },
  {
   "cell_type": "markdown",
   "metadata": {},
   "source": [
    "### 1.1 ChIPQC\n",
    "* 1.1.0 Load package and sampleSheet\n",
    "* 1.1.1 Create ChIPQC object\n",
    "* 1.1.2 Generate ChIPQC report"
   ]
  },
  {
   "cell_type": "code",
   "execution_count": 3,
   "metadata": {},
   "outputs": [],
   "source": [
    "setwd(\"/Users/yolandatiao/Documents/0_Bioinformatics2017/2018_Bioinformatics/Applied-Bioinformatics-HW-Yolanda/ChIP-seq.5/aligned_bam\")\n",
    "\n",
    "# Load ChIPQC package\n",
    "library(ChIPQC)"
   ]
  },
  {
   "cell_type": "code",
   "execution_count": 8,
   "metadata": {},
   "outputs": [
    {
     "name": "stderr",
     "output_type": "stream",
     "text": [
      "Warning message in read.table(file = file, header = header, sep = sep, quote = quote, :\n",
      "“incomplete final line found by readTableHeader on 'ChIPQC_samplesheet_chr10.csv'”"
     ]
    },
    {
     "data": {
      "text/html": [
       "<table>\n",
       "<thead><tr><th scope=col>SampleID</th><th scope=col>Tissue</th><th scope=col>Factor</th><th scope=col>Condition</th><th scope=col>Replicate</th><th scope=col>bamReads</th><th scope=col>ControlID</th><th scope=col>bamControl</th><th scope=col>Peaks</th><th scope=col>PeakCaller</th></tr></thead>\n",
       "<tbody>\n",
       "\t<tr><td>SRR3001750_chr10                             </td><td>NA                                           </td><td>NA                                           </td><td>NA                                           </td><td>NA                                           </td><td>SRR3001750_srt_dupr.chr10.srt.bam            </td><td>NA                                           </td><td>NA                                           </td><td>SRR3001750_srt_dupr.chr10.srt_peaks.broadPeak</td><td>macs                                         </td></tr>\n",
       "\t<tr><td>SRR3001751_chr10                             </td><td>NA                                           </td><td>NA                                           </td><td>NA                                           </td><td>NA                                           </td><td>SRR3001751_srt_dupr.chr10.srt.bam            </td><td>NA                                           </td><td>NA                                           </td><td>SRR3001751_srt_dupr.chr10.srt_peaks.broadPeak</td><td>macs                                         </td></tr>\n",
       "</tbody>\n",
       "</table>\n"
      ],
      "text/latex": [
       "\\begin{tabular}{r|llllllllll}\n",
       " SampleID & Tissue & Factor & Condition & Replicate & bamReads & ControlID & bamControl & Peaks & PeakCaller\\\\\n",
       "\\hline\n",
       "\t SRR3001750\\_chr10                                  & NA                                                  & NA                                                  & NA                                                  & NA                                                  & SRR3001750\\_srt\\_dupr.chr10.srt.bam               & NA                                                  & NA                                                  & SRR3001750\\_srt\\_dupr.chr10.srt\\_peaks.broadPeak & macs                                               \\\\\n",
       "\t SRR3001751\\_chr10                                  & NA                                                  & NA                                                  & NA                                                  & NA                                                  & SRR3001751\\_srt\\_dupr.chr10.srt.bam               & NA                                                  & NA                                                  & SRR3001751\\_srt\\_dupr.chr10.srt\\_peaks.broadPeak & macs                                               \\\\\n",
       "\\end{tabular}\n"
      ],
      "text/markdown": [
       "\n",
       "SampleID | Tissue | Factor | Condition | Replicate | bamReads | ControlID | bamControl | Peaks | PeakCaller | \n",
       "|---|---|\n",
       "| SRR3001750_chr10                              | NA                                            | NA                                            | NA                                            | NA                                            | SRR3001750_srt_dupr.chr10.srt.bam             | NA                                            | NA                                            | SRR3001750_srt_dupr.chr10.srt_peaks.broadPeak | macs                                          | \n",
       "| SRR3001751_chr10                              | NA                                            | NA                                            | NA                                            | NA                                            | SRR3001751_srt_dupr.chr10.srt.bam             | NA                                            | NA                                            | SRR3001751_srt_dupr.chr10.srt_peaks.broadPeak | macs                                          | \n",
       "\n",
       "\n"
      ],
      "text/plain": [
       "  SampleID         Tissue Factor Condition Replicate\n",
       "1 SRR3001750_chr10 NA     NA     NA        NA       \n",
       "2 SRR3001751_chr10 NA     NA     NA        NA       \n",
       "  bamReads                          ControlID bamControl\n",
       "1 SRR3001750_srt_dupr.chr10.srt.bam NA        NA        \n",
       "2 SRR3001751_srt_dupr.chr10.srt.bam NA        NA        \n",
       "  Peaks                                         PeakCaller\n",
       "1 SRR3001750_srt_dupr.chr10.srt_peaks.broadPeak macs      \n",
       "2 SRR3001751_srt_dupr.chr10.srt_peaks.broadPeak macs      "
      ]
     },
     "metadata": {},
     "output_type": "display_data"
    }
   ],
   "source": [
    "# Load sampleSheet\n",
    "samples <- read.csv(\"ChIPQC_samplesheet_chr10.csv\")\n",
    "head(samples)"
   ]
  },
  {
   "cell_type": "code",
   "execution_count": 9,
   "metadata": {},
   "outputs": [
    {
     "name": "stderr",
     "output_type": "stream",
     "text": [
      "SRR3001750_chr10     NA macs\n",
      "SRR3001751_chr10     NA macs\n",
      "Checking chromosomes:\n"
     ]
    },
    {
     "name": "stdout",
     "output_type": "stream",
     "text": [
      "[1] \"chr10\"\n"
     ]
    },
    {
     "name": "stderr",
     "output_type": "stream",
     "text": [
      "Compiling annotation...\n",
      "Computing metrics for 2 samples...\n",
      "R_zmq_msg_send errno: 4 strerror: Interrupted system call\n",
      "R_zmq_msg_send errno: 4 strerror: Interrupted system call\n",
      "R_zmq_msg_send errno: 4 strerror: Interrupted system call\n",
      "R_zmq_msg_send errno: 4 strerror: Interrupted system call\n",
      "R_zmq_msg_send errno: 4 strerror: Interrupted system call\n",
      "R_zmq_msg_send errno: 4 strerror: Interrupted system call\n",
      "R_zmq_msg_send errno: 4 strerror: Interrupted system call\n",
      " 300 / 300\n",
      "R_zmq_msg_send errno: 4 strerror: Interrupted system call\n",
      "R_zmq_msg_send errno: 4 strerror: Interrupted system call\n",
      "done\n",
      "Calculating coverage\n",
      "Calculating Summits on  chr10  ..[1] 1\n",
      "R_zmq_msg_send errno: 4 strerror: Interrupted system call\n",
      "R_zmq_msg_send errno: 4 strerror: Interrupted system call\n",
      "R_zmq_msg_send errno: 4 strerror: Interrupted system call\n",
      "R_zmq_msg_send errno: 4 strerror: Interrupted system call\n",
      "R_zmq_msg_send errno: 4 strerror: Interrupted system call\n",
      "R_zmq_msg_send errno: 4 strerror: Interrupted system call\n",
      "R_zmq_msg_send errno: 4 strerror: Interrupted system call\n",
      " 300 / 300\n",
      "R_zmq_msg_send errno: 4 strerror: Interrupted system call\n",
      "R_zmq_msg_send errno: 4 strerror: Interrupted system call\n",
      "done\n",
      "Calculating coverage\n",
      "Calculating Summits on  chr10  ..[1] 1\n"
     ]
    }
   ],
   "source": [
    "## Create ChIPQC object\n",
    "chipObj <- ChIPQC(samples, annotation=\"mm10\") "
   ]
  },
  {
   "cell_type": "code",
   "execution_count": 10,
   "metadata": {},
   "outputs": [
    {
     "name": "stderr",
     "output_type": "stream",
     "text": [
      "Saving 7 x 7 in image\n",
      "Saving 7 x 7 in image\n",
      "Saving 7 x 7 in image\n",
      "Using Sample as id variables\n",
      "Saving 7 x 7 in image\n",
      "Saving 7 x 7 in image\n"
     ]
    }
   ],
   "source": [
    "## Create ChIPQC report\n",
    "ChIPQCreport(chipObj, reportName=\"ChIP QC report - chr10\", reportFolder=\"ChIPQCreportChr10\")"
   ]
  },
  {
   "cell_type": "code",
   "execution_count": null,
   "metadata": {},
   "outputs": [],
   "source": []
  }
 ],
 "metadata": {
  "kernelspec": {
   "display_name": "R",
   "language": "R",
   "name": "ir"
  },
  "language_info": {
   "codemirror_mode": "r",
   "file_extension": ".r",
   "mimetype": "text/x-r-source",
   "name": "R",
   "pygments_lexer": "r",
   "version": "3.5.1"
  }
 },
 "nbformat": 4,
 "nbformat_minor": 2
}
