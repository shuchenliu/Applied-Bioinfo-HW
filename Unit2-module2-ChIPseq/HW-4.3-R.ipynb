{
 "cells": [
  {
   "cell_type": "code",
   "execution_count": 5,
   "metadata": {},
   "outputs": [],
   "source": [
    "setwd('~/Documents/Dev/SRCourse/original/Applied-Bioinformatics/Unit2-module2-ChIPseq/ChIP-seq.HW4.3/')\n",
    "library(ChIPQC)"
   ]
  },
  {
   "cell_type": "code",
   "execution_count": 12,
   "metadata": {},
   "outputs": [
    {
     "data": {
      "text/html": [
       "<table>\n",
       "<thead><tr><th scope=col>SampleID</th><th scope=col>Tissue</th><th scope=col>Factor</th><th scope=col>Condition</th><th scope=col>Replicate</th><th scope=col>bamReads</th><th scope=col>ControlID</th><th scope=col>bamControl</th><th scope=col>Peaks</th><th scope=col>PeakCaller</th></tr></thead>\n",
       "<tbody>\n",
       "\t<tr><td>H3K4Me1_1                                                    </td><td>NA                                                           </td><td>NA                                                           </td><td>NA                                                           </td><td>1                                                            </td><td>EFF_H3K4Me1_1_srt_dupr_chr11.sorted.bam                      </td><td>Input                                                        </td><td>EFF_Input_srt_dupr_chr11.sorted.bam                          </td><td>EFF_H3K4Me1_1_srt_dupr_chr11.sorted.bam_MACS2_peaks.broadPeak</td><td>macs                                                         </td></tr>\n",
       "\t<tr><td>H3K4Me1_2                                                    </td><td>NA                                                           </td><td>NA                                                           </td><td>NA                                                           </td><td>2                                                            </td><td>EFF_H3K4Me1_2_srt_dupr_chr11.sorted.bam                      </td><td>Input                                                        </td><td>EFF_Input_srt_dupr_chr11.sorted.bam                          </td><td>EFF_H3K4Me1_2_srt_dupr_chr11.sorted.bam_MACS2_peaks.broadPeak</td><td>macs                                                         </td></tr>\n",
       "</tbody>\n",
       "</table>\n"
      ],
      "text/latex": [
       "\\begin{tabular}{r|llllllllll}\n",
       " SampleID & Tissue & Factor & Condition & Replicate & bamReads & ControlID & bamControl & Peaks & PeakCaller\\\\\n",
       "\\hline\n",
       "\t H3K4Me1\\_1                                                                 & NA                                                                          & NA                                                                          & NA                                                                          & 1                                                                           & EFF\\_H3K4Me1\\_1\\_srt\\_dupr\\_chr11.sorted.bam                           & Input                                                                       & EFF\\_Input\\_srt\\_dupr\\_chr11.sorted.bam                                 & EFF\\_H3K4Me1\\_1\\_srt\\_dupr\\_chr11.sorted.bam\\_MACS2\\_peaks.broadPeak & macs                                                                       \\\\\n",
       "\t H3K4Me1\\_2                                                                 & NA                                                                          & NA                                                                          & NA                                                                          & 2                                                                           & EFF\\_H3K4Me1\\_2\\_srt\\_dupr\\_chr11.sorted.bam                           & Input                                                                       & EFF\\_Input\\_srt\\_dupr\\_chr11.sorted.bam                                 & EFF\\_H3K4Me1\\_2\\_srt\\_dupr\\_chr11.sorted.bam\\_MACS2\\_peaks.broadPeak & macs                                                                       \\\\\n",
       "\\end{tabular}\n"
      ],
      "text/markdown": [
       "\n",
       "SampleID | Tissue | Factor | Condition | Replicate | bamReads | ControlID | bamControl | Peaks | PeakCaller | \n",
       "|---|---|\n",
       "| H3K4Me1_1                                                     | NA                                                            | NA                                                            | NA                                                            | 1                                                             | EFF_H3K4Me1_1_srt_dupr_chr11.sorted.bam                       | Input                                                         | EFF_Input_srt_dupr_chr11.sorted.bam                           | EFF_H3K4Me1_1_srt_dupr_chr11.sorted.bam_MACS2_peaks.broadPeak | macs                                                          | \n",
       "| H3K4Me1_2                                                     | NA                                                            | NA                                                            | NA                                                            | 2                                                             | EFF_H3K4Me1_2_srt_dupr_chr11.sorted.bam                       | Input                                                         | EFF_Input_srt_dupr_chr11.sorted.bam                           | EFF_H3K4Me1_2_srt_dupr_chr11.sorted.bam_MACS2_peaks.broadPeak | macs                                                          | \n",
       "\n",
       "\n"
      ],
      "text/plain": [
       "  SampleID  Tissue Factor Condition Replicate\n",
       "1 H3K4Me1_1 NA     NA     NA        1        \n",
       "2 H3K4Me1_2 NA     NA     NA        2        \n",
       "  bamReads                                ControlID\n",
       "1 EFF_H3K4Me1_1_srt_dupr_chr11.sorted.bam Input    \n",
       "2 EFF_H3K4Me1_2_srt_dupr_chr11.sorted.bam Input    \n",
       "  bamControl                         \n",
       "1 EFF_Input_srt_dupr_chr11.sorted.bam\n",
       "2 EFF_Input_srt_dupr_chr11.sorted.bam\n",
       "  Peaks                                                         PeakCaller\n",
       "1 EFF_H3K4Me1_1_srt_dupr_chr11.sorted.bam_MACS2_peaks.broadPeak macs      \n",
       "2 EFF_H3K4Me1_2_srt_dupr_chr11.sorted.bam_MACS2_peaks.broadPeak macs      "
      ]
     },
     "metadata": {},
     "output_type": "display_data"
    }
   ],
   "source": [
    "samples <- read.csv('ChIP_EFF_samplesheet.csv')\n",
    "head(samples)"
   ]
  },
  {
   "cell_type": "code",
   "execution_count": 13,
   "metadata": {},
   "outputs": [
    {
     "name": "stderr",
     "output_type": "stream",
     "text": [
      "H3K4Me1_1     1 macs\n",
      "H3K4Me1_2     2 macs\n",
      "Checking chromosomes:\n"
     ]
    },
    {
     "name": "stdout",
     "output_type": "stream",
     "text": [
      "[1] \"chr11\"\n"
     ]
    },
    {
     "name": "stderr",
     "output_type": "stream",
     "text": [
      "Compiling annotation...\n",
      "Computing metrics for 3 samples...\n",
      "R_zmq_msg_send errno: 4 strerror: Interrupted system call\n",
      "R_zmq_msg_send errno: 4 strerror: Interrupted system call\n",
      "R_zmq_msg_send errno: 4 strerror: Interrupted system call\n",
      "R_zmq_msg_send errno: 4 strerror: Interrupted system call\n",
      "R_zmq_msg_send errno: 4 strerror: Interrupted system call\n",
      "R_zmq_msg_send errno: 4 strerror: Interrupted system call\n",
      "R_zmq_msg_send errno: 4 strerror: Interrupted system call\n",
      " 300 / 300\n",
      "R_zmq_msg_send errno: 4 strerror: Interrupted system call\n",
      "R_zmq_msg_send errno: 4 strerror: Interrupted system call\n",
      "done\n",
      "Calculating coverage\n",
      "Calculating Summits on  chr11  ..[1] 1\n",
      "R_zmq_msg_send errno: 4 strerror: Interrupted system call\n",
      "R_zmq_msg_send errno: 4 strerror: Interrupted system call\n",
      "R_zmq_msg_send errno: 4 strerror: Interrupted system call\n",
      "R_zmq_msg_send errno: 4 strerror: Interrupted system call\n",
      "R_zmq_msg_send errno: 4 strerror: Interrupted system call\n",
      "R_zmq_msg_send errno: 4 strerror: Interrupted system call\n",
      "R_zmq_msg_send errno: 4 strerror: Interrupted system call\n",
      " 300 / 300\n",
      "R_zmq_msg_send errno: 4 strerror: Interrupted system call\n",
      "R_zmq_msg_send errno: 4 strerror: Interrupted system call\n",
      "done\n",
      "Calculating coverage\n",
      "Calculating Summits on  chr11  ..[1] 1\n",
      "R_zmq_msg_send errno: 4 strerror: Interrupted system call\n",
      "R_zmq_msg_send errno: 4 strerror: Interrupted system call\n",
      "R_zmq_msg_send errno: 4 strerror: Interrupted system call\n",
      "R_zmq_msg_send errno: 4 strerror: Interrupted system call\n",
      "R_zmq_msg_send errno: 4 strerror: Interrupted system call\n",
      "R_zmq_msg_send errno: 4 strerror: Interrupted system call\n",
      " 300 / 300\n",
      "R_zmq_msg_send errno: 4 strerror: Interrupted system call\n",
      "[1] 1\n"
     ]
    }
   ],
   "source": [
    "chipObj <- ChIPQC(samples, annotation=\"mm10\")"
   ]
  },
  {
   "cell_type": "code",
   "execution_count": 15,
   "metadata": {},
   "outputs": [
    {
     "name": "stderr",
     "output_type": "stream",
     "text": [
      "Saving 7 x 7 in image\n",
      "Saving 7 x 7 in image\n",
      "Saving 7 x 7 in image\n",
      "Using Sample as id variables\n",
      "Saving 7 x 7 in image\n",
      "Saving 7 x 7 in image\n"
     ]
    }
   ],
   "source": [
    "ChIPQCreport(chipObj, reportName=\"ChIP QC report - chr11\", reportFolder=\"ChIPQCreportChr11\")"
   ]
  },
  {
   "cell_type": "code",
   "execution_count": null,
   "metadata": {},
   "outputs": [],
   "source": []
  }
 ],
 "metadata": {
  "kernelspec": {
   "display_name": "R",
   "language": "R",
   "name": "ir"
  },
  "language_info": {
   "codemirror_mode": "r",
   "file_extension": ".r",
   "mimetype": "text/x-r-source",
   "name": "R",
   "pygments_lexer": "r",
   "version": "3.5.0"
  }
 },
 "nbformat": 4,
 "nbformat_minor": 2
}
