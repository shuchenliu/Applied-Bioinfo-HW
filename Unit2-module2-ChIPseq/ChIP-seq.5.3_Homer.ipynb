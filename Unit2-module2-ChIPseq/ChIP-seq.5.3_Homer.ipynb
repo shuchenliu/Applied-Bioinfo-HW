{
 "cells": [
  {
   "cell_type": "markdown",
   "metadata": {},
   "source": [
    "# ChIP-seq intro 5\n",
    "Huitian Diao\n",
    "* __References__: \n",
    "* [ENCODE ChIP-seq pipeline](https://www.encodeproject.org/pipelines/ENCPL138KID/)"
   ]
  },
  {
   "cell_type": "markdown",
   "metadata": {},
   "source": [
    "## 2. Homer\n",
    "### 2.0 Preparation: Add Homer's path to bash_profile"
   ]
  },
  {
   "cell_type": "code",
   "execution_count": 4,
   "metadata": {},
   "outputs": [
    {
     "name": "stdout",
     "output_type": "stream",
     "text": [
      "\n",
      "# added by Anaconda3 5.3.0 installer\n",
      "# >>> conda init >>>\n",
      "# !! Contents within this block are managed by 'conda init' !!\n",
      "__conda_setup=\"$(CONDA_REPORT_ERRORS=false '/Users/yolandatiao/anaconda3/bin/conda' shell.bash hook 2> /dev/null)\"\n",
      "if [ $? -eq 0 ]; then\n",
      "    \\eval \"$__conda_setup\"\n",
      "else\n",
      "    if [ -f \"/Users/yolandatiao/anaconda3/etc/profile.d/conda.sh\" ]; then\n",
      "        . \"/Users/yolandatiao/anaconda3/etc/profile.d/conda.sh\"\n",
      "        CONDA_CHANGEPS1=false conda activate base\n",
      "    else\n",
      "        \\export PATH=\"/Users/yolandatiao/anaconda3/bin:$PATH\"\n",
      "    fi\n",
      "fi\n",
      "unset __conda_setup\n",
      "# <<< conda init <<<\n",
      "\n",
      "\n",
      "# Add homer path\n",
      "export PATH=\"/Users/yolandatiao/Documents/0_Bioinformatics2017/2018_Bioinformatics/Applied-Bioinformatics-HW-Yolanda/homer/bin:$PATH\"\n",
      "\n",
      "\n",
      "# Add rclone path\n",
      "export PATH=\"/Users/yolandatiao/rclone:$PATH\"\n"
     ]
    }
   ],
   "source": [
    "%%bash\n",
    "cat ~/.bash_profile"
   ]
  },
  {
   "cell_type": "code",
   "execution_count": 6,
   "metadata": {},
   "outputs": [],
   "source": [
    "%%bash\n",
    "# Check if Homer works\n",
    "findMotifs.pl"
   ]
  },
  {
   "cell_type": "markdown",
   "metadata": {},
   "source": [
    "### 2.1 Use Homer to find motifs in ChIP peaks\n",
    "* Genome fa file: https://drive.google.com/open?id=1n5-BAfI6SkjJZaniUZJDQCauZFlr_-8N"
   ]
  },
  {
   "cell_type": "code",
   "execution_count": 11,
   "metadata": {},
   "outputs": [],
   "source": [
    "#%%bash\n",
    "cd /Users/yolandatiao/Documents/0_Bioinformatics2017/2018_Bioinformatics/Applied-Bioinformatics-HW-Yolanda/ChIP-seq.5/aligned_bam\n",
    "bed_name=SRR3001750_srt_dupr.chr10.srt_peaks.broadPeak\n",
    "chr10_genome=/Users/yolandatiao/Documents/0_Bioinformatics2017/2018_Bioinformatics/UCSC_mm10/genome_chr10.fa\n",
    "out_name=SRR3001750_srt_dupr.chr10_HomerMF\n",
    "err_name=SRR3001750_srt_dupr.chr10_HomerMF.out\n",
    "findMotifsGenome.pl $bed_name $chr10_genome $out_name &> $err_name                                                               "
   ]
  },
  {
   "cell_type": "code",
   "execution_count": null,
   "metadata": {},
   "outputs": [],
   "source": []
  }
 ],
 "metadata": {
  "kernelspec": {
   "display_name": "Python 3",
   "language": "python",
   "name": "python3"
  },
  "language_info": {
   "codemirror_mode": {
    "name": "ipython",
    "version": 3
   },
   "file_extension": ".py",
   "mimetype": "text/x-python",
   "name": "python",
   "nbconvert_exporter": "python",
   "pygments_lexer": "ipython3",
   "version": "3.6.6"
  }
 },
 "nbformat": 4,
 "nbformat_minor": 2
}
