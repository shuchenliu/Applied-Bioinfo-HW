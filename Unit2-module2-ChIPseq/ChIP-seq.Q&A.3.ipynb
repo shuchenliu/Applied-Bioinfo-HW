{
 "cells": [
  {
   "cell_type": "markdown",
   "metadata": {},
   "source": [
    "## 1. Types of errors\n",
    "### 1.1 Syntax error"
   ]
  },
  {
   "cell_type": "code",
   "execution_count": 2,
   "metadata": {},
   "outputs": [],
   "source": [
    "%%bash\n",
    "ecchoo \"Hello world!!\" # Typo"
   ]
  },
  {
   "cell_type": "code",
   "execution_count": null,
   "metadata": {},
   "outputs": [],
   "source": [
    "%%bash\n",
    "echo \"apple\" > 123.txt\n",
    "awk '{if (~/a/ $1 print $0}' 123.txt # Missing )"
   ]
  },
  {
   "cell_type": "code",
   "execution_count": 5,
   "metadata": {},
   "outputs": [],
   "source": [
    "%%bash\n",
    "for i in seq $(seq 1 10)\n",
    "echo $i\n",
    "done # Missing do"
   ]
  },
  {
   "cell_type": "markdown",
   "metadata": {},
   "source": [
    "### 1.2 Runtime error"
   ]
  },
  {
   "cell_type": "code",
   "execution_count": 9,
   "metadata": {},
   "outputs": [],
   "source": [
    "%%bash\n",
    "cd /Users/yolandatiao/Documents/0_Bioinformatics2017/2018_Bioinformatics/Applied-Bioinformatics-HW-Yolanda/ChIP-seq.QA.3\n",
    "cat fruits.txt"
   ]
  },
  {
   "cell_type": "markdown",
   "metadata": {},
   "source": [
    "### 1.3 Logic errors"
   ]
  },
  {
   "cell_type": "code",
   "execution_count": 20,
   "metadata": {},
   "outputs": [
    {
     "name": "stdout",
     "output_type": "stream",
     "text": [
      "2\n"
     ]
    }
   ],
   "source": [
    "%%bash\n",
    "# Try to find how many odd numbers in an array\n",
    "odd=0\n",
    "for i in 1 1 2 2 3 3\n",
    "do\n",
    "  if (($(($i%2))==0 )) # Found even numbers instead of odd numbers\n",
    "    then\n",
    "    odd=$(expr $odd + 1)\n",
    "    fi\n",
    "done\n",
    "echo $odd"
   ]
  },
  {
   "cell_type": "markdown",
   "metadata": {},
   "source": [
    "## 2. Common mistakes"
   ]
  },
  {
   "cell_type": "markdown",
   "metadata": {},
   "source": [
    "### 2.1 Typo (like 1.1)\n",
    "### 2.2 Directory error"
   ]
  },
  {
   "cell_type": "code",
   "execution_count": 28,
   "metadata": {},
   "outputs": [
    {
     "name": "stdout",
     "output_type": "stream",
     "text": [
      "dir1\n",
      "dir2\n",
      "dir3\n",
      "\n",
      "./dir1:\n",
      "123.txt\n",
      "\n",
      "./dir2:\n",
      "234.txt\n",
      "\n",
      "./dir3:\n",
      "345.txt\n"
     ]
    }
   ],
   "source": [
    "%%bash\n",
    "cd /Users/yolandatiao/Documents/0_Bioinformatics2017/2018_Bioinformatics/Applied-Bioinformatics-HW-Yolanda/ChIP-seq.QA.3\n",
    "ls -R"
   ]
  },
  {
   "cell_type": "code",
   "execution_count": 27,
   "metadata": {},
   "outputs": [],
   "source": [
    "%%bash\n",
    "cd /Users/yolandatiao/Documents/0_Bioinformatics2017/2018_Bioinformatics/Applied-Bioinformatics-HW-Yolanda/ChIP-seq.QA.3\n",
    "cd dir1 \n",
    "cat 345.txt #345.txt is not in dir1..."
   ]
  },
  {
   "cell_type": "markdown",
   "metadata": {},
   "source": [
    "### 2.3 Missing or extra { [ ( ; , “ (like 1.1)\n",
    "### 2.4 Structure error"
   ]
  },
  {
   "cell_type": "code",
   "execution_count": 30,
   "metadata": {},
   "outputs": [],
   "source": [
    "i = 1\n",
    "while i < 6:\n",
    "  print(i)"
   ]
  },
  {
   "cell_type": "markdown",
   "metadata": {},
   "source": [
    "### 2.5 Off-by-one error\n",
    "##### In bash, array element number start with 0"
   ]
  },
  {
   "cell_type": "code",
   "execution_count": 37,
   "metadata": {},
   "outputs": [
    {
     "name": "stdout",
     "output_type": "stream",
     "text": [
      "1\n",
      "banana\n",
      "2\n",
      "cranberry\n",
      "3\n",
      "durian\n",
      "4\n",
      "\n",
      "apple\n"
     ]
    }
   ],
   "source": [
    "%%bash\n",
    "fruits_arr=(\"apple\" \"banana\" \"cranberry\" \"durian\")\n",
    "for i in $(seq 1 ${#fruits_arr[@]})\n",
    "do\n",
    "  echo $i\n",
    "  echo ${fruits_arr[i]}\n",
    "done\n",
    "\n",
    "echo ${fruits_arr[0]}"
   ]
  },
  {
   "cell_type": "markdown",
   "metadata": {},
   "source": [
    "##### In python, list element number start with 0"
   ]
  },
  {
   "cell_type": "code",
   "execution_count": 12,
   "metadata": {},
   "outputs": [
    {
     "name": "stdout",
     "output_type": "stream",
     "text": [
      "banana\n",
      "cranberry\n",
      "durian\n",
      "apple\n"
     ]
    }
   ],
   "source": [
    "fruits_list = [\"apple\",\"banana\",\"cranberry\",\"durian\"]\n",
    "for i in range(1, len(fruits_list)):\n",
    "    print(fruits_list[i])\n",
    "\n",
    "print(fruits_list[0])"
   ]
  },
  {
   "cell_type": "markdown",
   "metadata": {},
   "source": [
    "##### In R, vector element number start with 1"
   ]
  },
  {
   "cell_type": "code",
   "execution_count": 9,
   "metadata": {},
   "outputs": [
    {
     "name": "stdout",
     "output_type": "stream",
     "text": [
      "The rpy2.ipython extension is already loaded. To reload it, use:\n",
      "  %reload_ext rpy2.ipython\n"
     ]
    }
   ],
   "source": [
    "%load_ext rpy2.ipython"
   ]
  },
  {
   "cell_type": "code",
   "execution_count": 15,
   "metadata": {},
   "outputs": [
    {
     "data": {
      "text/plain": [
       "[1] \"apple\"\n",
       "[1] \"banana\"\n",
       "[1] \"cranberry\"\n",
       "[1] \"durian\"\n"
      ]
     },
     "metadata": {},
     "output_type": "display_data"
    }
   ],
   "source": [
    "%%R\n",
    "fruits.vec = c(\"apple\",\"banana\",\"cranberry\",\"durian\")\n",
    "for (i in c(1:length(fruits.vec))){\n",
    "    print(fruits.vec[i])\n",
    "}"
   ]
  },
  {
   "cell_type": "markdown",
   "metadata": {},
   "source": [
    "### 2.6 Names contain special characters"
   ]
  },
  {
   "cell_type": "code",
   "execution_count": 48,
   "metadata": {},
   "outputs": [
    {
     "name": "stdout",
     "output_type": "stream",
     "text": [
      "dir1\n",
      "dir2\n",
      "dir3\n",
      "gene_names.csv\n",
      "my fruits\n"
     ]
    }
   ],
   "source": [
    "%%bash\n",
    "ls\n",
    "cd my fruits # There is space in file name"
   ]
  },
  {
   "cell_type": "code",
   "execution_count": 40,
   "metadata": {},
   "outputs": [
    {
     "data": {
      "text/plain": [
       "[1] X123\n",
       "<0 rows> (or 0-length row.names)\n"
      ]
     },
     "metadata": {},
     "output_type": "display_data"
    }
   ],
   "source": [
    "\n"
   ]
  },
  {
   "attachments": {},
   "cell_type": "markdown",
   "metadata": {},
   "source": [
    "## 3. How to avoid bugs\n",
    "### 3.1 Practice, practice, practice"
   ]
  },
  {
   "cell_type": "markdown",
   "metadata": {},
   "source": [
    "### 3.2 Use a good text editor that works for you (I use Sublime Text / Spyder / R Studio)\n",
    "* Syntax highlight\n",
    "* Autofill "
   ]
  },
  {
   "cell_type": "markdown",
   "metadata": {},
   "source": [
    "### 3.3 Good coding style"
   ]
  },
  {
   "attachments": {},
   "cell_type": "markdown",
   "metadata": {},
   "source": [
    "#### 3.3.1 Good readability is important to yourself and others\n",
    "##### Do you want to read this:\n",
    "![Bad example](https://cavanzyl.files.wordpress.com/2016/05/faa03c93e060f132991f5660e5a2978c.png?w=444)\n",
    "##### Or this:\n",
    "![Good example](http://cppbetterexplained.com/wp-content/uploads/2015/01/good-commenting-example.jpg)"
   ]
  },
  {
   "attachments": {},
   "cell_type": "markdown",
   "metadata": {},
   "source": [
    "#### 3.3.1 Comment codes well\n",
    "#### 3.3.2 Comment codes well when you update them\n",
    "##### This is exactly true:\n",
    "![Forgot to comment](https://i.redd.it/54ss55ix0vwy.jpg)"
   ]
  },
  {
   "attachments": {},
   "cell_type": "markdown",
   "metadata": {},
   "source": [
    "#### 3.3.3 Consistent naming format\n",
    "##### Bad"
   ]
  },
  {
   "cell_type": "code",
   "execution_count": 25,
   "metadata": {},
   "outputs": [
    {
     "data": {
      "text/plain": [
       "      names prices\n",
       "1     apple     10\n",
       "2    banana     20\n",
       "3 cranberry     30\n",
       "4    durian     40\n"
      ]
     },
     "metadata": {},
     "output_type": "display_data"
    }
   ],
   "source": [
    "%%R\n",
    "fs = c(\"apple\",\"banana\",\"cranberry\",\"durian\")\n",
    "pc = c(10, 20, 30, 40)\n",
    "my_DF.1 = data.frame(names=fruits.vec, prices=prices.vec)\n",
    "head(my_DF.1)\n",
    "# Who knows what is my_DF1 after 100 lines of codes?\n",
    "# Will you remember that you used Uppercase DF and lowercase my?\n",
    "# Will you remember that you used _ and also . in your name?"
   ]
  },
  {
   "cell_type": "markdown",
   "metadata": {},
   "source": [
    "##### Good"
   ]
  },
  {
   "cell_type": "code",
   "execution_count": 27,
   "metadata": {},
   "outputs": [
    {
     "data": {
      "text/plain": [
       "      names prices\n",
       "1     apple     10\n",
       "2    banana     20\n",
       "3 cranberry     30\n",
       "4    durian     40\n"
      ]
     },
     "metadata": {},
     "output_type": "display_data"
    }
   ],
   "source": [
    "%%R\n",
    "fruit.names.vec = c(\"apple\",\"banana\",\"cranberry\",\"durian\")\n",
    "fruit.prices.vec = c(10, 20, 30, 40)\n",
    "fruits.df = data.frame(names=fruit.names.vec, prices=fruit.prices.vec)\n",
    "head(fruits.df)\n",
    "# Everything has similar structure, easy to recall"
   ]
  },
  {
   "cell_type": "markdown",
   "metadata": {},
   "source": [
    "#### 3.3.4 Simplicity\n",
    "##### Would you still understand how this works after 2 days?\n",
    "![nested](http://firstclassthoughts.co.uk/Articles/Readability/img/i.imgur.com_BtjZedW.jpg)"
   ]
  },
  {
   "attachments": {},
   "cell_type": "markdown",
   "metadata": {},
   "source": [
    "#### 3.3.4 Modularity: separate code into self-contained, independent pieces"
   ]
  },
  {
   "attachments": {},
   "cell_type": "markdown",
   "metadata": {},
   "source": [
    "### 3.3 Test\n",
    "#### 3.3.1 Test by block when you write"
   ]
  },
  {
   "cell_type": "markdown",
   "metadata": {},
   "source": [
    "#### Example: Try to define a function that return all the gene names that contains \"Tbx\""
   ]
  },
  {
   "cell_type": "code",
   "execution_count": 29,
   "metadata": {},
   "outputs": [
    {
     "name": "stdout",
     "output_type": "stream",
     "text": [
      "The rpy2.ipython extension is already loaded. To reload it, use:\n",
      "  %reload_ext rpy2.ipython\n"
     ]
    }
   ],
   "source": [
    "%load_ext rpy2.ipython"
   ]
  },
  {
   "cell_type": "markdown",
   "metadata": {},
   "source": [
    "##### Wrong"
   ]
  },
  {
   "cell_type": "code",
   "execution_count": 52,
   "metadata": {},
   "outputs": [
    {
     "data": {
      "text/plain": [
       " [1] \"Tbx1\"   \"Tbx10\"  \"Tbx15\"  \"Tbx18\"  \"Tbx19\"  \"Tbx2\"   \"Tbx20\"  \"Tbx21\" \n",
       " [9] \"Tbx22\"  \"Tbx3\"   \"Tbx4\"   \"Tbx5\"   \"Tbx6\"   \"Tbxa2r\" \"Tbxas1\"\n"
      ]
     },
     "metadata": {},
     "output_type": "display_data"
    }
   ],
   "source": [
    "%%R\n",
    "setwd(\"/Users/yolandatiao/Documents/0_Bioinformatics2017/2018_Bioinformatics/Applied-Bioinformatics-HW-Yolanda/ChIP-seq.QA.3\")\n",
    "# Define function\n",
    "MatchGn <- function(str.x, vec.x){\n",
    "  out.vec <- c()\n",
    "  for (i in vec.x){\n",
    "    if (grepl(str.x, i)){\n",
    "      out.vec <- c(out.vec, i)\n",
    "    }\n",
    "  }\n",
    "  return(out.vec)\n",
    "}\n",
    "# Run\n",
    "gn.all.vec <- read.csv(\"gene_names.csv\")\n",
    "print(MatchGn(\"Tbx\", gn.all.vec$gene_names))"
   ]
  },
  {
   "cell_type": "markdown",
   "metadata": {},
   "source": [
    "##### Right"
   ]
  },
  {
   "cell_type": "code",
   "execution_count": 61,
   "metadata": {},
   "outputs": [
    {
     "data": {
      "text/plain": [
       "[1] \"Tbx1\" \"Tbx2\"\n"
      ]
     },
     "metadata": {},
     "output_type": "display_data"
    }
   ],
   "source": [
    "%%R\n",
    "# Try to make the finding work\n",
    "str.x <- \"Tbx\"\n",
    "vec.x <- c(\"Abc\", \"Tau\",\"Tbx1\", \"tBx\", \"Tb10\", \"Tbx2\",\"Uau\")\n",
    "out.vec <- c()\n",
    "for (i in vec.x){\n",
    "    if (grepl(str.x, i)){\n",
    "        out.vec <- c(out.vec, i)\n",
    "    }   \n",
    "}\n",
    "print(out.vec)"
   ]
  },
  {
   "cell_type": "code",
   "execution_count": 63,
   "metadata": {},
   "outputs": [
    {
     "data": {
      "text/plain": [
       "[1] \"Tau\" \"Uau\"\n"
      ]
     },
     "metadata": {},
     "output_type": "display_data"
    }
   ],
   "source": [
    "%%R\n",
    "# Package into function\n",
    "MatchGn <- function(str.x, vec.x){\n",
    "  out.vec <- c()\n",
    "  for (i in vec.x){\n",
    "    if (grepl(str.x, i)){\n",
    "      out.vec <- c(out.vec, i)\n",
    "    }\n",
    "  }\n",
    "  return(out.vec)\n",
    "}\n",
    "\n",
    "print(MatchGn(\"au\", c(\"Abc\", \"Tau\",\"Tbx1\", \"tBx\", \"Tb10\", \"Tbx2\",\"Uau\")))"
   ]
  },
  {
   "cell_type": "code",
   "execution_count": 64,
   "metadata": {},
   "outputs": [
    {
     "data": {
      "text/plain": [
       " [1] \"Tbx1\"   \"Tbx10\"  \"Tbx15\"  \"Tbx18\"  \"Tbx19\"  \"Tbx2\"   \"Tbx20\"  \"Tbx21\" \n",
       " [9] \"Tbx22\"  \"Tbx3\"   \"Tbx4\"   \"Tbx5\"   \"Tbx6\"   \"Tbxa2r\" \"Tbxas1\"\n"
      ]
     },
     "metadata": {},
     "output_type": "display_data"
    }
   ],
   "source": [
    "%%R\n",
    "# Use it\n",
    "gn.all.vec <- read.csv(\"gene_names.csv\")\n",
    "print(MatchGn(\"Tbx\", gn.all.vec$gene_names))"
   ]
  },
  {
   "attachments": {},
   "cell_type": "markdown",
   "metadata": {},
   "source": [
    "### 3.4 No need to re-invent the wheel when there’s something available and tested"
   ]
  },
  {
   "cell_type": "markdown",
   "metadata": {},
   "source": [
    "#### Just google it and maybe you'll find something that works"
   ]
  },
  {
   "cell_type": "code",
   "execution_count": null,
   "metadata": {},
   "outputs": [],
   "source": []
  }
 ],
 "metadata": {
  "kernelspec": {
   "display_name": "Python 3",
   "language": "python",
   "name": "python3"
  },
  "language_info": {
   "codemirror_mode": {
    "name": "ipython",
    "version": 3
   },
   "file_extension": ".py",
   "mimetype": "text/x-python",
   "name": "python",
   "nbconvert_exporter": "python",
   "pygments_lexer": "ipython3",
   "version": "3.6.6"
  }
 },
 "nbformat": 4,
 "nbformat_minor": 2
}
