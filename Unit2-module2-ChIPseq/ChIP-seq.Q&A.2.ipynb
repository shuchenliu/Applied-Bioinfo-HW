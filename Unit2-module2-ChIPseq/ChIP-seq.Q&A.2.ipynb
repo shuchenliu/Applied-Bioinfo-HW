{
 "cells": [
  {
   "attachments": {},
   "cell_type": "markdown",
   "metadata": {},
   "source": [
    "#### 1. What is source activate chip?\n",
    "##### 1.1 It is to switch on your virtual environment __chip__"
   ]
  },
  {
   "cell_type": "code",
   "execution_count": 17,
   "metadata": {},
   "outputs": [
    {
     "name": "stdout",
     "output_type": "stream",
     "text": [
      "# conda environments:\n",
      "#\n",
      "base                     /Users/yolandatiao/anaconda3\n",
      "chip                  *  /Users/yolandatiao/anaconda3/envs/chip\n",
      "\n"
     ]
    }
   ],
   "source": [
    "%%bash\n",
    "source activate chip\n",
    "conda env list # List your environments"
   ]
  },
  {
   "cell_type": "markdown",
   "metadata": {},
   "source": [
    "##### Above shows that I have two environments:\n",
    "* base(default)\n",
    "* chip(default)\n",
    "* I am currently on the environment __chip__"
   ]
  },
  {
   "cell_type": "markdown",
   "metadata": {},
   "source": [
    "##### 1.2 You can check what packages are installed in each environment"
   ]
  },
  {
   "cell_type": "code",
   "execution_count": 18,
   "metadata": {},
   "outputs": [
    {
     "name": "stdout",
     "output_type": "stream",
     "text": [
      "      55\n",
      "bioconductor-annotate     1.58.0                   r341_0    bioconda\n",
      "bioconductor-annotationdbi 1.42.1                   r341_0    bioconda\n",
      "bioconductor-annotationforge 1.22.2                   r341_0    bioconda\n",
      "bioconductor-biobase      2.40.0           r341h470a237_0    bioconda\n",
      "bioconductor-biocgenerics 0.26.0                   r341_0    bioconda\n",
      "bioconductor-biocparallel 1.14.2           r341h26a2512_0    bioconda\n",
      "bioconductor-biomart      2.36.1                   r341_0    bioconda\n",
      "bioconductor-biostrings   2.48.0           r341h470a237_0    bioconda\n",
      "bioconductor-bsgenome     1.48.0                   r341_0    bioconda\n",
      "bioconductor-category     2.44.0                 r3.4.1_0    bioconda\n",
      "bioconductor-chipqc       1.14.0                 r3.4.1_1    bioconda\n",
      "bioconductor-chipseeker   1.16.1                   r341_0    bioconda\n",
      "bioconductor-chipseq      1.30.0           r341h470a237_0    bioconda\n",
      "bioconductor-clusterprofiler 3.8.1                    r341_0    bioconda\n",
      "bioconductor-delayedarray 0.6.6                    r341_0    bioconda\n",
      "bioconductor-deseq2       1.20.0           r341hfc679d8_0    bioconda\n",
      "bioconductor-diffbind     2.6.6                  r3.4.1_0    bioconda\n",
      "bioconductor-do.db        2.9                      r341_3    bioconda\n",
      "bioconductor-dose         3.6.1                    r341_0    bioconda\n",
      "bioconductor-edger        3.22.5           r341hfc679d8_0    bioconda\n",
      "bioconductor-enrichplot   1.0.2                    r341_0    bioconda\n",
      "bioconductor-fgsea        1.6.0            r341hfc679d8_0    bioconda\n",
      "bioconductor-genefilter   1.62.0           r341h26a2512_0    bioconda\n",
      "bioconductor-geneplotter  1.58.0                   r341_0    bioconda\n",
      "bioconductor-genomeinfodb 1.16.0                   r341_0    bioconda\n",
      "bioconductor-genomeinfodbdata 1.1.0                    r341_0    bioconda\n",
      "bioconductor-genomicalignments 1.16.0           r341h470a237_0    bioconda\n",
      "bioconductor-genomicfeatures 1.32.3                   r341_0    bioconda\n",
      "bioconductor-genomicranges 1.32.7           r341h470a237_0    bioconda\n",
      "bioconductor-go.db        3.6.0                    r341_0    bioconda\n",
      "bioconductor-gosemsim     2.6.2            r341hfc679d8_0    bioconda\n",
      "bioconductor-gostats      2.44.0                 r3.4.1_0    bioconda\n",
      "bioconductor-graph        1.56.0                 r3.4.1_0    bioconda\n",
      "bioconductor-gseabase     1.40.0                 r3.4.1_0    bioconda\n",
      "bioconductor-iranges      2.14.12          r341h470a237_0    bioconda\n",
      "bioconductor-limma        3.36.5           r341h470a237_0    bioconda\n",
      "bioconductor-qvalue       2.12.0                   r341_0    bioconda\n",
      "bioconductor-rbgl         1.54.0                 r3.4.1_0    bioconda\n",
      "bioconductor-rgraphviz    2.22.0                 r3.4.1_0    bioconda\n",
      "bioconductor-rsamtools    1.32.3           r341hfc679d8_0    bioconda\n",
      "bioconductor-rtracklayer  1.40.6           r341h470a237_0    bioconda\n",
      "bioconductor-s4vectors    0.18.3           r341h470a237_0    bioconda\n",
      "bioconductor-shortread    1.38.0           r341hfc679d8_0    bioconda\n",
      "bioconductor-summarizedexperiment 1.10.1                   r341_0    bioconda\n",
      "bioconductor-systempiper  1.12.0                 r3.4.1_0    bioconda\n",
      "bioconductor-txdb.celegans.ucsc.ce6.ensgene 3.2.2                    r341_3    bioconda\n",
      "bioconductor-txdb.dmelanogaster.ucsc.dm3.ensgene 3.2.2                    r341_4    bioconda\n",
      "bioconductor-txdb.hsapiens.ucsc.hg18.knowngene 3.2.2                    r341_3    bioconda\n",
      "bioconductor-txdb.hsapiens.ucsc.hg19.knowngene 3.2.2                    r341_3    bioconda\n",
      "bioconductor-txdb.mmusculus.ucsc.mm10.knowngene 3.4.0                    r341_3    bioconda\n",
      "bioconductor-txdb.mmusculus.ucsc.mm9.knowngene 3.2.2                    r341_3    bioconda\n",
      "bioconductor-txdb.rnorvegicus.ucsc.rn4.ensgene 3.2.2                    r341_3    bioconda\n",
      "bioconductor-variantannotation 1.26.1           r341h470a237_0    bioconda\n",
      "bioconductor-xvector      0.20.0           r341h470a237_0    bioconda\n",
      "bioconductor-zlibbioc     1.26.0           r341h470a237_0    bioconda\n"
     ]
    }
   ],
   "source": [
    "%%bash\n",
    "conda list | grep \"bioconductor\" | wc -l\n",
    "conda list | grep \"bioconductor\""
   ]
  },
  {
   "cell_type": "code",
   "execution_count": 19,
   "metadata": {},
   "outputs": [
    {
     "name": "stdout",
     "output_type": "stream",
     "text": [
      "bioconductor-annotate     1.58.0                   r341_0    bioconda\n",
      "bioconductor-annotationdbi 1.42.1                   r341_0    bioconda\n",
      "bioconductor-biobase      2.40.0           r341h470a237_0    bioconda\n",
      "bioconductor-biocgenerics 0.26.0                   r341_0    bioconda\n",
      "bioconductor-biocparallel 1.14.2           r341h26a2512_0    bioconda\n",
      "bioconductor-delayedarray 0.6.6                    r341_0    bioconda\n",
      "bioconductor-deseq2       1.20.0           r341hfc679d8_0    bioconda\n",
      "bioconductor-edger        3.22.5           r341hfc679d8_0    bioconda\n",
      "bioconductor-genefilter   1.62.0           r341h26a2512_0    bioconda\n",
      "bioconductor-geneplotter  1.58.0                   r341_0    bioconda\n",
      "bioconductor-genomeinfodb 1.16.0                   r341_0    bioconda\n",
      "bioconductor-genomeinfodbdata 1.1.0                    r341_0    bioconda\n",
      "bioconductor-genomicranges 1.32.7           r341h470a237_0    bioconda\n",
      "bioconductor-iranges      2.14.12          r341h470a237_0    bioconda\n",
      "bioconductor-limma        3.36.5           r341h470a237_0    bioconda\n",
      "bioconductor-s4vectors    0.18.3           r341h470a237_0    bioconda\n",
      "bioconductor-summarizedexperiment 1.10.1                   r341_0    bioconda\n",
      "bioconductor-xvector      0.20.0           r341h470a237_0    bioconda\n",
      "bioconductor-zlibbioc     1.26.0           r341h470a237_0    bioconda\n",
      "      19\n"
     ]
    }
   ],
   "source": [
    "%%bash\n",
    "source activate base\n",
    "conda list | grep \"bioconductor\"\n",
    "conda list | grep \"bioconductor\" | wc -l"
   ]
  },
  {
   "cell_type": "markdown",
   "metadata": {},
   "source": [
    "##### In different environments there are different packages!!"
   ]
  },
  {
   "cell_type": "code",
   "execution_count": null,
   "metadata": {},
   "outputs": [],
   "source": []
  }
 ],
 "metadata": {
  "kernelspec": {
   "display_name": "Python 3",
   "language": "python",
   "name": "python3"
  },
  "language_info": {
   "codemirror_mode": {
    "name": "ipython",
    "version": 3
   },
   "file_extension": ".py",
   "mimetype": "text/x-python",
   "name": "python",
   "nbconvert_exporter": "python",
   "pygments_lexer": "ipython3",
   "version": "3.6.6"
  }
 },
 "nbformat": 4,
 "nbformat_minor": 2
}
